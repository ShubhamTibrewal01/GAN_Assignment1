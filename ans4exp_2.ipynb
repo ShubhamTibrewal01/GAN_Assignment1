{
  "nbformat": 4,
  "nbformat_minor": 0,
  "metadata": {
    "kernelspec": {
      "display_name": "Python 3",
      "language": "python",
      "name": "python3"
    },
    "language_info": {
      "codemirror_mode": {
        "name": "ipython",
        "version": 3
      },
      "file_extension": ".py",
      "mimetype": "text/x-python",
      "name": "python",
      "nbconvert_exporter": "python",
      "pygments_lexer": "ipython3",
      "version": "3.6.14"
    },
    "colab": {
      "name": "ans4exp-2.ipynb",
      "provenance": [],
      "collapsed_sections": [],
      "include_colab_link": true
    }
  },
  "cells": [
    {
      "cell_type": "markdown",
      "metadata": {
        "id": "view-in-github",
        "colab_type": "text"
      },
      "source": [
        "<a href=\"https://colab.research.google.com/github/ShubhamTibrewal01/GAN_Assignment1/blob/main/ans4exp_2.ipynb\" target=\"_parent\"><img src=\"https://colab.research.google.com/assets/colab-badge.svg\" alt=\"Open In Colab\"/></a>"
      ]
    },
    {
      "cell_type": "markdown",
      "metadata": {
        "id": "_DA1GgXno6yI"
      },
      "source": [
        "# Your first convolutional neural network"
      ]
    },
    {
      "cell_type": "markdown",
      "metadata": {
        "id": "02zwUzNto6yJ"
      },
      "source": [
        "# imports"
      ]
    },
    {
      "cell_type": "code",
      "metadata": {
        "id": "hREnWm3Oo6yK"
      },
      "source": [
        "import numpy as np\n",
        "\n",
        "from keras.layers import Input, Flatten, Dense, Conv2D, BatchNormalization, LeakyReLU, Dropout, Activation\n",
        "from keras.models import Model\n",
        "from tensorflow.keras.optimizers import Adam\n",
        "from tensorflow.keras.utils import to_categorical\n",
        "import keras.backend as K \n",
        "\n",
        "from tensorflow.keras.datasets import cifar10"
      ],
      "execution_count": 1,
      "outputs": []
    },
    {
      "cell_type": "markdown",
      "metadata": {
        "id": "mzDFpaDRo6yL"
      },
      "source": [
        "# data"
      ]
    },
    {
      "cell_type": "code",
      "metadata": {
        "id": "Ndnrw8b2o6yL"
      },
      "source": [
        "NUM_CLASSES = 10"
      ],
      "execution_count": 2,
      "outputs": []
    },
    {
      "cell_type": "code",
      "metadata": {
        "id": "SKDrk5xwo6yL",
        "colab": {
          "base_uri": "https://localhost:8080/"
        },
        "outputId": "88a73ed8-7ad6-4319-b8fc-db04675e4d64"
      },
      "source": [
        "(x_train, y_train), (x_test, y_test) = cifar10.load_data()"
      ],
      "execution_count": 3,
      "outputs": [
        {
          "output_type": "stream",
          "name": "stdout",
          "text": [
            "Downloading data from https://www.cs.toronto.edu/~kriz/cifar-10-python.tar.gz\n",
            "170500096/170498071 [==============================] - 2s 0us/step\n",
            "170508288/170498071 [==============================] - 2s 0us/step\n"
          ]
        }
      ]
    },
    {
      "cell_type": "code",
      "metadata": {
        "id": "frVlUI2Vo6yL"
      },
      "source": [
        "x_train = x_train.astype('float32') / 255.0\n",
        "x_test = x_test.astype('float32') / 255.0\n",
        "\n",
        "y_train = to_categorical(y_train, NUM_CLASSES)\n",
        "y_test = to_categorical(y_test, NUM_CLASSES)"
      ],
      "execution_count": 4,
      "outputs": []
    },
    {
      "cell_type": "code",
      "metadata": {
        "id": "Gs8O2FlXo6yM",
        "colab": {
          "base_uri": "https://localhost:8080/"
        },
        "outputId": "9510f092-a254-4592-f7b8-3ab90498bf71"
      },
      "source": [
        "x_train[54, 12, 13, 1] "
      ],
      "execution_count": 5,
      "outputs": [
        {
          "output_type": "execute_result",
          "data": {
            "text/plain": [
              "0.36862746"
            ]
          },
          "metadata": {},
          "execution_count": 5
        }
      ]
    },
    {
      "cell_type": "markdown",
      "metadata": {
        "id": "4RtAs6gKo6yM"
      },
      "source": [
        "# architecture"
      ]
    },
    {
      "cell_type": "code",
      "metadata": {
        "id": "Mx4cj1ivo6yM"
      },
      "source": [
        "input_layer = Input(shape=(32,32,3))\n",
        "\n",
        "conv_layer_1 = Conv2D(\n",
        "    filters = 10\n",
        "    , kernel_size = (4,4)\n",
        "    , strides = 2\n",
        "    , padding = 'same'\n",
        "    )(input_layer)\n",
        "\n",
        "conv_layer_2 = Conv2D(\n",
        "    filters = 20\n",
        "    , kernel_size = (3,3)\n",
        "    , strides = 2\n",
        "    , padding = 'same'\n",
        "    )(conv_layer_1)\n",
        "\n",
        "flatten_layer = Flatten()(conv_layer_2)\n",
        "\n",
        "output_layer = Dense(units=10, activation = 'softmax')(flatten_layer)\n",
        "\n",
        "model = Model(input_layer, output_layer)"
      ],
      "execution_count": 6,
      "outputs": []
    },
    {
      "cell_type": "code",
      "metadata": {
        "id": "t3tHYNxpo6yM",
        "colab": {
          "base_uri": "https://localhost:8080/"
        },
        "outputId": "b1a25c90-cb7a-4310-b781-a622fbe9e9d6"
      },
      "source": [
        "model.summary()"
      ],
      "execution_count": 7,
      "outputs": [
        {
          "output_type": "stream",
          "name": "stdout",
          "text": [
            "Model: \"model\"\n",
            "_________________________________________________________________\n",
            "Layer (type)                 Output Shape              Param #   \n",
            "=================================================================\n",
            "input_1 (InputLayer)         [(None, 32, 32, 3)]       0         \n",
            "_________________________________________________________________\n",
            "conv2d (Conv2D)              (None, 16, 16, 10)        490       \n",
            "_________________________________________________________________\n",
            "conv2d_1 (Conv2D)            (None, 8, 8, 20)          1820      \n",
            "_________________________________________________________________\n",
            "flatten (Flatten)            (None, 1280)              0         \n",
            "_________________________________________________________________\n",
            "dense (Dense)                (None, 10)                12810     \n",
            "=================================================================\n",
            "Total params: 15,120\n",
            "Trainable params: 15,120\n",
            "Non-trainable params: 0\n",
            "_________________________________________________________________\n"
          ]
        }
      ]
    },
    {
      "cell_type": "code",
      "metadata": {
        "id": "MfR1HFNso6yN"
      },
      "source": [
        "input_layer = Input((32,32,3))\n",
        "\n",
        "x = Conv2D(filters = 32, kernel_size = 3, strides = 1, padding = 'same')(input_layer)\n",
        "x = LeakyReLU()(x)\n",
        "x = BatchNormalization()(x)\n",
        "\n",
        "\n",
        "\n",
        "x = Conv2D(filters = 32, kernel_size = 3, strides = 2, padding = 'same')(x)\n",
        "x = LeakyReLU()(x)\n",
        "x = BatchNormalization()(x)\n",
        "\n",
        "\n",
        "\n",
        "x = Conv2D(filters = 64, kernel_size = 3, strides = 1, padding = 'same')(x)\n",
        "x = LeakyReLU()(x)\n",
        "x = BatchNormalization()(x)\n",
        "\n",
        "\n",
        "\n",
        "x = Conv2D(filters = 64, kernel_size = 3, strides = 2, padding = 'same')(x)\n",
        "x = LeakyReLU()(x)\n",
        "x = BatchNormalization()(x)\n",
        "\n",
        "\n",
        "\n",
        "x = Flatten()(x)\n",
        "\n",
        "x = Dense(128)(x)\n",
        "x = LeakyReLU()(x)\n",
        "x = BatchNormalization()(x)\n",
        "\n",
        "x = Dropout(rate = 0.5)(x)\n",
        "\n",
        "x = Dense(NUM_CLASSES)(x)\n",
        "output_layer = Activation('softmax')(x)\n",
        "\n",
        "model = Model(input_layer, output_layer)"
      ],
      "execution_count": 8,
      "outputs": []
    },
    {
      "cell_type": "code",
      "metadata": {
        "id": "8_kaOt8So6yN",
        "colab": {
          "base_uri": "https://localhost:8080/"
        },
        "outputId": "024a6830-d56f-4699-fb79-150b2b7b511e"
      },
      "source": [
        "model.summary()"
      ],
      "execution_count": 9,
      "outputs": [
        {
          "output_type": "stream",
          "name": "stdout",
          "text": [
            "Model: \"model_1\"\n",
            "_________________________________________________________________\n",
            "Layer (type)                 Output Shape              Param #   \n",
            "=================================================================\n",
            "input_2 (InputLayer)         [(None, 32, 32, 3)]       0         \n",
            "_________________________________________________________________\n",
            "conv2d_2 (Conv2D)            (None, 32, 32, 32)        896       \n",
            "_________________________________________________________________\n",
            "leaky_re_lu (LeakyReLU)      (None, 32, 32, 32)        0         \n",
            "_________________________________________________________________\n",
            "batch_normalization (BatchNo (None, 32, 32, 32)        128       \n",
            "_________________________________________________________________\n",
            "conv2d_3 (Conv2D)            (None, 16, 16, 32)        9248      \n",
            "_________________________________________________________________\n",
            "leaky_re_lu_1 (LeakyReLU)    (None, 16, 16, 32)        0         \n",
            "_________________________________________________________________\n",
            "batch_normalization_1 (Batch (None, 16, 16, 32)        128       \n",
            "_________________________________________________________________\n",
            "conv2d_4 (Conv2D)            (None, 16, 16, 64)        18496     \n",
            "_________________________________________________________________\n",
            "leaky_re_lu_2 (LeakyReLU)    (None, 16, 16, 64)        0         \n",
            "_________________________________________________________________\n",
            "batch_normalization_2 (Batch (None, 16, 16, 64)        256       \n",
            "_________________________________________________________________\n",
            "conv2d_5 (Conv2D)            (None, 8, 8, 64)          36928     \n",
            "_________________________________________________________________\n",
            "leaky_re_lu_3 (LeakyReLU)    (None, 8, 8, 64)          0         \n",
            "_________________________________________________________________\n",
            "batch_normalization_3 (Batch (None, 8, 8, 64)          256       \n",
            "_________________________________________________________________\n",
            "flatten_1 (Flatten)          (None, 4096)              0         \n",
            "_________________________________________________________________\n",
            "dense_1 (Dense)              (None, 128)               524416    \n",
            "_________________________________________________________________\n",
            "leaky_re_lu_4 (LeakyReLU)    (None, 128)               0         \n",
            "_________________________________________________________________\n",
            "batch_normalization_4 (Batch (None, 128)               512       \n",
            "_________________________________________________________________\n",
            "dropout (Dropout)            (None, 128)               0         \n",
            "_________________________________________________________________\n",
            "dense_2 (Dense)              (None, 10)                1290      \n",
            "_________________________________________________________________\n",
            "activation (Activation)      (None, 10)                0         \n",
            "=================================================================\n",
            "Total params: 592,554\n",
            "Trainable params: 591,914\n",
            "Non-trainable params: 640\n",
            "_________________________________________________________________\n"
          ]
        }
      ]
    },
    {
      "cell_type": "markdown",
      "metadata": {
        "id": "CGY3DoY-o6yN"
      },
      "source": [
        "# train"
      ]
    },
    {
      "cell_type": "code",
      "metadata": {
        "id": "v-_12ljso6yN",
        "colab": {
          "base_uri": "https://localhost:8080/"
        },
        "outputId": "2a0d8bff-96b9-471f-ac4e-46f2ed1379e2"
      },
      "source": [
        "opt = Adam(lr=0.0005)\n",
        "model.compile(loss='categorical_crossentropy', optimizer=opt, metrics=['accuracy'])"
      ],
      "execution_count": 10,
      "outputs": [
        {
          "output_type": "stream",
          "name": "stderr",
          "text": [
            "/usr/local/lib/python3.7/dist-packages/keras/optimizer_v2/optimizer_v2.py:356: UserWarning: The `lr` argument is deprecated, use `learning_rate` instead.\n",
            "  \"The `lr` argument is deprecated, use `learning_rate` instead.\")\n"
          ]
        }
      ]
    },
    {
      "cell_type": "code",
      "metadata": {
        "id": "ah1zdbpno6yO",
        "colab": {
          "base_uri": "https://localhost:8080/"
        },
        "outputId": "6235900c-d844-41fa-857b-5e3a7477499c"
      },
      "source": [
        "model.fit(x_train\n",
        "          , y_train\n",
        "          , batch_size=32\n",
        "          , epochs=10\n",
        "          , shuffle=True\n",
        "          , validation_data = (x_test, y_test))"
      ],
      "execution_count": 12,
      "outputs": [
        {
          "output_type": "stream",
          "name": "stdout",
          "text": [
            "Epoch 1/10\n",
            "1563/1563 [==============================] - 169s 108ms/step - loss: 1.5827 - accuracy: 0.4579 - val_loss: 1.2143 - val_accuracy: 0.5725\n",
            "Epoch 2/10\n",
            "1563/1563 [==============================] - 168s 107ms/step - loss: 1.1525 - accuracy: 0.5944 - val_loss: 1.1993 - val_accuracy: 0.5789\n",
            "Epoch 3/10\n",
            "1563/1563 [==============================] - 169s 108ms/step - loss: 0.9999 - accuracy: 0.6489 - val_loss: 0.9566 - val_accuracy: 0.6714\n",
            "Epoch 4/10\n",
            "1563/1563 [==============================] - 170s 109ms/step - loss: 0.9189 - accuracy: 0.6794 - val_loss: 0.9226 - val_accuracy: 0.6806\n",
            "Epoch 5/10\n",
            "1563/1563 [==============================] - 169s 108ms/step - loss: 0.8547 - accuracy: 0.7025 - val_loss: 0.9310 - val_accuracy: 0.6801\n",
            "Epoch 6/10\n",
            "1563/1563 [==============================] - 173s 111ms/step - loss: 0.8085 - accuracy: 0.7192 - val_loss: 0.8440 - val_accuracy: 0.7043\n",
            "Epoch 7/10\n",
            "1563/1563 [==============================] - 175s 112ms/step - loss: 0.7590 - accuracy: 0.7370 - val_loss: 0.8934 - val_accuracy: 0.6939\n",
            "Epoch 8/10\n",
            "1563/1563 [==============================] - 170s 109ms/step - loss: 0.7213 - accuracy: 0.7496 - val_loss: 0.8319 - val_accuracy: 0.7137\n",
            "Epoch 9/10\n",
            "1563/1563 [==============================] - 174s 111ms/step - loss: 0.6799 - accuracy: 0.7626 - val_loss: 0.7990 - val_accuracy: 0.7283\n",
            "Epoch 10/10\n",
            "1563/1563 [==============================] - 171s 109ms/step - loss: 0.6523 - accuracy: 0.7722 - val_loss: 0.8110 - val_accuracy: 0.7208\n"
          ]
        },
        {
          "output_type": "execute_result",
          "data": {
            "text/plain": [
              "<keras.callbacks.History at 0x7fd1b052ea50>"
            ]
          },
          "metadata": {},
          "execution_count": 12
        }
      ]
    },
    {
      "cell_type": "code",
      "metadata": {
        "id": "xGe9HEL5o6yO",
        "colab": {
          "base_uri": "https://localhost:8080/"
        },
        "outputId": "9b0e3e2d-a508-4928-bb33-8bff8ad95a61"
      },
      "source": [
        "model.layers[6].get_weights()"
      ],
      "execution_count": 13,
      "outputs": [
        {
          "output_type": "execute_result",
          "data": {
            "text/plain": [
              "[array([0.7697262 , 1.1132238 , 0.94780594, 1.0293839 , 0.98658335,\n",
              "        0.8500795 , 0.90893966, 1.1839968 , 0.9561583 , 0.9897687 ,\n",
              "        1.0891236 , 1.14306   , 0.95601153, 0.758735  , 0.7893087 ,\n",
              "        0.8467036 , 0.9464697 , 1.2154527 , 1.1193614 , 1.0668724 ,\n",
              "        0.87833816, 1.353502  , 0.85565716, 0.9939825 , 1.0877739 ,\n",
              "        0.840426  , 0.99674815, 0.9316634 , 0.8790938 , 1.2523577 ,\n",
              "        0.82556146, 0.79450226], dtype=float32),\n",
              " array([ 0.1335392 ,  0.13748392,  0.19258077,  0.14202268,  0.22600535,\n",
              "         0.27005306,  0.12502916,  0.09628957,  0.03234578, -0.00108898,\n",
              "         0.15725061,  0.12887345, -0.21434902,  0.1415328 , -0.04197128,\n",
              "         0.15285747, -0.19883516, -0.06614788,  0.1314145 , -0.15156369,\n",
              "         0.19000874,  0.16596627,  0.3347574 ,  0.00129927, -0.00204204,\n",
              "         0.12514244, -0.16006558,  0.06505138,  0.02235344, -0.04735463,\n",
              "         0.12320492, -0.0230481 ], dtype=float32),\n",
              " array([ 0.38021508,  0.39859065,  0.44555283,  0.65514797,  0.46743554,\n",
              "         0.6913763 ,  0.6372756 ,  0.4475658 ,  0.45388916,  0.38710433,\n",
              "         0.20722653,  0.48068294,  0.1298964 ,  1.0022644 ,  0.28160462,\n",
              "         0.68931746,  0.14190951,  0.3888968 ,  0.55147195,  0.59098256,\n",
              "         0.29402396,  0.31970423,  0.31217015,  0.27214628,  0.7048782 ,\n",
              "         0.74564934,  0.55708086,  0.1307283 ,  0.43674356,  0.5108272 ,\n",
              "        -0.02837449,  0.5683972 ], dtype=float32),\n",
              " array([1.8987538, 2.2266705, 3.2070596, 4.3553677, 3.087057 , 1.6112883,\n",
              "        4.1557183, 3.3086224, 4.8966427, 2.9792163, 2.4459577, 3.4489007,\n",
              "        2.1501472, 3.7479239, 1.3149743, 3.4065232, 0.6081338, 3.6546016,\n",
              "        3.6892474, 2.7396502, 1.5855439, 3.1031742, 1.9736438, 1.1105876,\n",
              "        4.454512 , 2.7084117, 4.0599375, 1.4494208, 2.0940046, 4.795859 ,\n",
              "        1.1530651, 2.1428623], dtype=float32)]"
            ]
          },
          "metadata": {},
          "execution_count": 13
        }
      ]
    },
    {
      "cell_type": "markdown",
      "metadata": {
        "id": "5u-Mj_ZIo6yO"
      },
      "source": [
        "# analysis"
      ]
    },
    {
      "cell_type": "code",
      "metadata": {
        "id": "cHfYU-njo6yO",
        "colab": {
          "base_uri": "https://localhost:8080/"
        },
        "outputId": "d0635c6e-43df-435b-fc6c-acb17281b336"
      },
      "source": [
        "model.evaluate(x_test, y_test, batch_size=1000)"
      ],
      "execution_count": 14,
      "outputs": [
        {
          "output_type": "stream",
          "name": "stdout",
          "text": [
            "10/10 [==============================] - 8s 730ms/step - loss: 0.8110 - accuracy: 0.7208\n"
          ]
        },
        {
          "output_type": "execute_result",
          "data": {
            "text/plain": [
              "[0.8109837770462036, 0.72079998254776]"
            ]
          },
          "metadata": {},
          "execution_count": 14
        }
      ]
    },
    {
      "cell_type": "code",
      "metadata": {
        "id": "kezb0VX3o6yP"
      },
      "source": [
        "CLASSES = np.array(['airplane', 'automobile', 'bird', 'cat', 'deer', 'dog', 'frog', 'horse', 'ship', 'truck'])\n",
        "\n",
        "preds = model.predict(x_test)\n",
        "preds_single = CLASSES[np.argmax(preds, axis = -1)]\n",
        "actual_single = CLASSES[np.argmax(y_test, axis = -1)]"
      ],
      "execution_count": 15,
      "outputs": []
    },
    {
      "cell_type": "code",
      "metadata": {
        "id": "h6jVmNdqo6yP",
        "colab": {
          "base_uri": "https://localhost:8080/",
          "height": 138
        },
        "outputId": "f1e325b3-4871-4295-bca3-9849809444a8"
      },
      "source": [
        "import matplotlib.pyplot as plt\n",
        "\n",
        "n_to_show = 10\n",
        "indices = np.random.choice(range(len(x_test)), n_to_show)\n",
        "\n",
        "fig = plt.figure(figsize=(15, 3))\n",
        "fig.subplots_adjust(hspace=0.4, wspace=0.4)\n",
        "\n",
        "for i, idx in enumerate(indices):\n",
        "    img = x_test[idx]\n",
        "    ax = fig.add_subplot(1, n_to_show, i+1)\n",
        "    ax.axis('off')\n",
        "    ax.text(0.5, -0.35, 'pred = ' + str(preds_single[idx]), fontsize=10, ha='center', transform=ax.transAxes) \n",
        "    ax.text(0.5, -0.7, 'act = ' + str(actual_single[idx]), fontsize=10, ha='center', transform=ax.transAxes)\n",
        "    ax.imshow(img)\n"
      ],
      "execution_count": 16,
      "outputs": [
        {
          "output_type": "display_data",
          "data": {
            "image/png": "[encoded data removed]",
            "text/plain": [
              "<Figure size 1080x216 with 10 Axes>"
            ]
          },
          "metadata": {
            "needs_background": "light"
          }
        }
      ]
    },
    {
      "cell_type": "code",
      "metadata": {
        "id": "AVrsDr90o6yP"
      },
      "source": [
        ""
      ],
      "execution_count": 16,
      "outputs": []
    },
    {
      "cell_type": "code",
      "metadata": {
        "id": "kQMzJNvso6yP"
      },
      "source": [
        ""
      ],
      "execution_count": null,
      "outputs": []
    },
    {
      "cell_type": "code",
      "metadata": {
        "id": "_sdgIkM-o6yP"
      },
      "source": [
        ""
      ],
      "execution_count": null,
      "outputs": []
    }
  ]
}
{
  "nbformat": 4,
  "nbformat_minor": 0,
  "metadata": {
    "kernelspec": {
      "display_name": "Python 3",
      "language": "python",
      "name": "python3"
    },
    "language_info": {
      "codemirror_mode": {
        "name": "ipython",
        "version": 3
      },
      "file_extension": ".py",
      "mimetype": "text/x-python",
      "name": "python",
      "nbconvert_exporter": "python",
      "pygments_lexer": "ipython3",
      "version": "3.6.14"
    },
    "colab": {
      "name": "ans5exp-2.ipynb",
      "provenance": [],
      "collapsed_sections": [],
      "include_colab_link": true
    }
  },
  "cells": [
    {
      "cell_type": "markdown",
      "metadata": {
        "id": "view-in-github",
        "colab_type": "text"
      },
      "source": [
        "<a href=\"https://colab.research.google.com/github/ShubhamTibrewal01/GAN_Assignment1/blob/main/ans5exp_2.ipynb\" target=\"_parent\"><img src=\"https://colab.research.google.com/assets/colab-badge.svg\" alt=\"Open In Colab\"/></a>"
      ]
    },
    {
      "cell_type": "markdown",
      "metadata": {
        "id": "UfW5MqOrqZVo"
      },
      "source": [
        "# Your first convolutional neural network"
      ]
    },
    {
      "cell_type": "markdown",
      "metadata": {
        "id": "7ewCXEJWqZVv"
      },
      "source": [
        "# imports"
      ]
    },
    {
      "cell_type": "code",
      "metadata": {
        "id": "QQgrN8nzqZVw"
      },
      "source": [
        "import numpy as np\n",
        "\n",
        "from keras.layers import Input, Flatten, Dense, Conv2D, BatchNormalization, LeakyReLU, Dropout, Activation\n",
        "from keras.models import Model\n",
        "from tensorflow.keras.optimizers import Adam\n",
        "from tensorflow.keras.utils import to_categorical\n",
        "import keras.backend as K \n",
        "\n",
        "from tensorflow.keras.datasets import cifar10"
      ],
      "execution_count": 1,
      "outputs": []
    },
    {
      "cell_type": "markdown",
      "metadata": {
        "id": "YxbY7AXBqZVy"
      },
      "source": [
        "# data"
      ]
    },
    {
      "cell_type": "code",
      "metadata": {
        "id": "CJs27FWQqZVy"
      },
      "source": [
        "NUM_CLASSES = 10"
      ],
      "execution_count": 2,
      "outputs": []
    },
    {
      "cell_type": "code",
      "metadata": {
        "id": "GdIbHGRUqZVz",
        "colab": {
          "base_uri": "https://localhost:8080/"
        },
        "outputId": "b5c669e7-9a33-4788-8c8f-a00ed3e0f35f"
      },
      "source": [
        "(x_train, y_train), (x_test, y_test) = cifar10.load_data()"
      ],
      "execution_count": 3,
      "outputs": [
        {
          "output_type": "stream",
          "name": "stdout",
          "text": [
            "Downloading data from https://www.cs.toronto.edu/~kriz/cifar-10-python.tar.gz\n",
            "170500096/170498071 [==============================] - 2s 0us/step\n",
            "170508288/170498071 [==============================] - 2s 0us/step\n"
          ]
        }
      ]
    },
    {
      "cell_type": "code",
      "metadata": {
        "id": "syB6qQbXqZVz"
      },
      "source": [
        "x_train = x_train.astype('float32') / 255.0\n",
        "x_test = x_test.astype('float32') / 255.0\n",
        "\n",
        "y_train = to_categorical(y_train, NUM_CLASSES)\n",
        "y_test = to_categorical(y_test, NUM_CLASSES)"
      ],
      "execution_count": 4,
      "outputs": []
    },
    {
      "cell_type": "code",
      "metadata": {
        "id": "JCJLldB0qZV0",
        "colab": {
          "base_uri": "https://localhost:8080/"
        },
        "outputId": "7f5df52c-845c-4093-ac65-f735d4b95f41"
      },
      "source": [
        "x_train[54, 12, 13, 1] "
      ],
      "execution_count": 5,
      "outputs": [
        {
          "output_type": "execute_result",
          "data": {
            "text/plain": [
              "0.36862746"
            ]
          },
          "metadata": {},
          "execution_count": 5
        }
      ]
    },
    {
      "cell_type": "markdown",
      "metadata": {
        "id": "Y_XyOB_-qZV1"
      },
      "source": [
        "# architecture"
      ]
    },
    {
      "cell_type": "code",
      "metadata": {
        "id": "3FBO9g8dqZV2"
      },
      "source": [
        "input_layer = Input(shape=(32,32,3))\n",
        "\n",
        "conv_layer_1 = Conv2D(\n",
        "    filters = 10\n",
        "    , kernel_size = (4,4)\n",
        "    , strides = 2\n",
        "    , padding = 'same'\n",
        "    )(input_layer)\n",
        "\n",
        "conv_layer_2 = Conv2D(\n",
        "    filters = 20\n",
        "    , kernel_size = (3,3)\n",
        "    , strides = 2\n",
        "    , padding = 'same'\n",
        "    )(conv_layer_1)\n",
        "\n",
        "flatten_layer = Flatten()(conv_layer_2)\n",
        "\n",
        "output_layer = Dense(units=10, activation = 'softmax')(flatten_layer)\n",
        "\n",
        "model = Model(input_layer, output_layer)"
      ],
      "execution_count": 6,
      "outputs": []
    },
    {
      "cell_type": "code",
      "metadata": {
        "id": "4AEdANCPqZV3",
        "colab": {
          "base_uri": "https://localhost:8080/"
        },
        "outputId": "96e08c1f-5394-4a57-a58b-08430cb76ece"
      },
      "source": [
        "model.summary()"
      ],
      "execution_count": 7,
      "outputs": [
        {
          "output_type": "stream",
          "name": "stdout",
          "text": [
            "Model: \"model\"\n",
            "_________________________________________________________________\n",
            "Layer (type)                 Output Shape              Param #   \n",
            "=================================================================\n",
            "input_1 (InputLayer)         [(None, 32, 32, 3)]       0         \n",
            "_________________________________________________________________\n",
            "conv2d (Conv2D)              (None, 16, 16, 10)        490       \n",
            "_________________________________________________________________\n",
            "conv2d_1 (Conv2D)            (None, 8, 8, 20)          1820      \n",
            "_________________________________________________________________\n",
            "flatten (Flatten)            (None, 1280)              0         \n",
            "_________________________________________________________________\n",
            "dense (Dense)                (None, 10)                12810     \n",
            "=================================================================\n",
            "Total params: 15,120\n",
            "Trainable params: 15,120\n",
            "Non-trainable params: 0\n",
            "_________________________________________________________________\n"
          ]
        }
      ]
    },
    {
      "cell_type": "code",
      "metadata": {
        "id": "dTS6hwTYqZV3"
      },
      "source": [
        "input_layer = Input((32,32,3))\n",
        "\n",
        "x = Conv2D(filters = 32, kernel_size = 3, strides = 1, padding = 'same')(input_layer)\n",
        "x = BatchNormalization()(x)\n",
        "x = LeakyReLU()(x)\n",
        "\n",
        "\n",
        "x = Conv2D(filters = 32, kernel_size = 3, strides = 2, padding = 'same')(x)\n",
        "x = BatchNormalization()(x)\n",
        "x = LeakyReLU()(x)\n",
        "\n",
        "\n",
        "x = Conv2D(filters = 64, kernel_size = 3, strides = 1, padding = 'same')(x)\n",
        "x = BatchNormalization()(x)\n",
        "x = LeakyReLU()(x)\n",
        "\n",
        "\n",
        "x = Conv2D(filters = 64, kernel_size = 3, strides = 2, padding = 'same')(x)\n",
        "x = BatchNormalization()(x)\n",
        "x = LeakyReLU()(x)\n",
        "\n",
        "\n",
        "x = Flatten()(x)\n",
        "\n",
        "x = Dense(128)(x)\n",
        "x = BatchNormalization()(x)\n",
        "x = LeakyReLU()(x)\n",
        "x = Dropout(rate = 0.25)(x)\n",
        "\n",
        "x = Dense(NUM_CLASSES)(x)\n",
        "output_layer = Activation('softmax')(x)\n",
        "\n",
        "model = Model(input_layer, output_layer)"
      ],
      "execution_count": 8,
      "outputs": []
    },
    {
      "cell_type": "code",
      "metadata": {
        "id": "8CEmptgOqZV4",
        "colab": {
          "base_uri": "https://localhost:8080/"
        },
        "outputId": "116b39ce-6c0c-40a1-fc5b-11eacfbba503"
      },
      "source": [
        "model.summary()"
      ],
      "execution_count": 9,
      "outputs": [
        {
          "output_type": "stream",
          "name": "stdout",
          "text": [
            "Model: \"model_1\"\n",
            "_________________________________________________________________\n",
            "Layer (type)                 Output Shape              Param #   \n",
            "=================================================================\n",
            "input_2 (InputLayer)         [(None, 32, 32, 3)]       0         \n",
            "_________________________________________________________________\n",
            "conv2d_2 (Conv2D)            (None, 32, 32, 32)        896       \n",
            "_________________________________________________________________\n",
            "batch_normalization (BatchNo (None, 32, 32, 32)        128       \n",
            "_________________________________________________________________\n",
            "leaky_re_lu (LeakyReLU)      (None, 32, 32, 32)        0         \n",
            "_________________________________________________________________\n",
            "conv2d_3 (Conv2D)            (None, 16, 16, 32)        9248      \n",
            "_________________________________________________________________\n",
            "batch_normalization_1 (Batch (None, 16, 16, 32)        128       \n",
            "_________________________________________________________________\n",
            "leaky_re_lu_1 (LeakyReLU)    (None, 16, 16, 32)        0         \n",
            "_________________________________________________________________\n",
            "conv2d_4 (Conv2D)            (None, 16, 16, 64)        18496     \n",
            "_________________________________________________________________\n",
            "batch_normalization_2 (Batch (None, 16, 16, 64)        256       \n",
            "_________________________________________________________________\n",
            "leaky_re_lu_2 (LeakyReLU)    (None, 16, 16, 64)        0         \n",
            "_________________________________________________________________\n",
            "conv2d_5 (Conv2D)            (None, 8, 8, 64)          36928     \n",
            "_________________________________________________________________\n",
            "batch_normalization_3 (Batch (None, 8, 8, 64)          256       \n",
            "_________________________________________________________________\n",
            "leaky_re_lu_3 (LeakyReLU)    (None, 8, 8, 64)          0         \n",
            "_________________________________________________________________\n",
            "flatten_1 (Flatten)          (None, 4096)              0         \n",
            "_________________________________________________________________\n",
            "dense_1 (Dense)              (None, 128)               524416    \n",
            "_________________________________________________________________\n",
            "batch_normalization_4 (Batch (None, 128)               512       \n",
            "_________________________________________________________________\n",
            "leaky_re_lu_4 (LeakyReLU)    (None, 128)               0         \n",
            "_________________________________________________________________\n",
            "dropout (Dropout)            (None, 128)               0         \n",
            "_________________________________________________________________\n",
            "dense_2 (Dense)              (None, 10)                1290      \n",
            "_________________________________________________________________\n",
            "activation (Activation)      (None, 10)                0         \n",
            "=================================================================\n",
            "Total params: 592,554\n",
            "Trainable params: 591,914\n",
            "Non-trainable params: 640\n",
            "_________________________________________________________________\n"
          ]
        }
      ]
    },
    {
      "cell_type": "markdown",
      "metadata": {
        "id": "NJektq3qqZV4"
      },
      "source": [
        "# train"
      ]
    },
    {
      "cell_type": "code",
      "metadata": {
        "id": "EnPbVi6fqZV4",
        "colab": {
          "base_uri": "https://localhost:8080/"
        },
        "outputId": "ea5d8bb0-4ab7-4219-a587-4e50caf81f3f"
      },
      "source": [
        "opt = Adam(lr=0.0005)\n",
        "model.compile(loss='categorical_crossentropy', optimizer=opt, metrics=['accuracy'])"
      ],
      "execution_count": 10,
      "outputs": [
        {
          "output_type": "stream",
          "name": "stderr",
          "text": [
            "/usr/local/lib/python3.7/dist-packages/keras/optimizer_v2/optimizer_v2.py:356: UserWarning: The `lr` argument is deprecated, use `learning_rate` instead.\n",
            "  \"The `lr` argument is deprecated, use `learning_rate` instead.\")\n"
          ]
        }
      ]
    },
    {
      "cell_type": "code",
      "metadata": {
        "id": "Z6irYWExqZV5",
        "colab": {
          "base_uri": "https://localhost:8080/"
        },
        "outputId": "962dc60a-d38c-43fb-fe47-def5d087003a"
      },
      "source": [
        "model.fit(x_train\n",
        "          , y_train\n",
        "          , batch_size=32\n",
        "          , epochs=10\n",
        "          , shuffle=True\n",
        "          , validation_data = (x_test, y_test))"
      ],
      "execution_count": 12,
      "outputs": [
        {
          "output_type": "stream",
          "name": "stdout",
          "text": [
            "Epoch 1/10\n",
            "1563/1563 [==============================] - 165s 105ms/step - loss: 1.3677 - accuracy: 0.5151 - val_loss: 1.1609 - val_accuracy: 0.5862\n",
            "Epoch 2/10\n",
            "1563/1563 [==============================] - 164s 105ms/step - loss: 1.0494 - accuracy: 0.6312 - val_loss: 1.0543 - val_accuracy: 0.6303\n",
            "Epoch 3/10\n",
            "1563/1563 [==============================] - 166s 106ms/step - loss: 0.9133 - accuracy: 0.6815 - val_loss: 1.0552 - val_accuracy: 0.6383\n",
            "Epoch 4/10\n",
            "1563/1563 [==============================] - 165s 106ms/step - loss: 0.8280 - accuracy: 0.7078 - val_loss: 0.9070 - val_accuracy: 0.6790\n",
            "Epoch 5/10\n",
            "1563/1563 [==============================] - 167s 107ms/step - loss: 0.7585 - accuracy: 0.7356 - val_loss: 0.8686 - val_accuracy: 0.7005\n",
            "Epoch 6/10\n",
            "1563/1563 [==============================] - 167s 107ms/step - loss: 0.7009 - accuracy: 0.7546 - val_loss: 0.8329 - val_accuracy: 0.7135\n",
            "Epoch 7/10\n",
            "1563/1563 [==============================] - 165s 106ms/step - loss: 0.6557 - accuracy: 0.7708 - val_loss: 0.9462 - val_accuracy: 0.6858\n",
            "Epoch 8/10\n",
            "1563/1563 [==============================] - 166s 106ms/step - loss: 0.6007 - accuracy: 0.7890 - val_loss: 0.8099 - val_accuracy: 0.7266\n",
            "Epoch 9/10\n",
            "1563/1563 [==============================] - 166s 106ms/step - loss: 0.5727 - accuracy: 0.7970 - val_loss: 0.8647 - val_accuracy: 0.7143\n",
            "Epoch 10/10\n",
            "1563/1563 [==============================] - 167s 107ms/step - loss: 0.5344 - accuracy: 0.8111 - val_loss: 0.8187 - val_accuracy: 0.7294\n"
          ]
        },
        {
          "output_type": "execute_result",
          "data": {
            "text/plain": [
              "<keras.callbacks.History at 0x7ff2c885b690>"
            ]
          },
          "metadata": {},
          "execution_count": 12
        }
      ]
    },
    {
      "cell_type": "code",
      "metadata": {
        "id": "4A4yXdTpqZV5",
        "colab": {
          "base_uri": "https://localhost:8080/"
        },
        "outputId": "0cdcd0b9-b32a-4c18-e87d-c21a7772c29d"
      },
      "source": [
        "model.layers[6].get_weights()"
      ],
      "execution_count": 13,
      "outputs": [
        {
          "output_type": "execute_result",
          "data": {
            "text/plain": [
              "[]"
            ]
          },
          "metadata": {},
          "execution_count": 13
        }
      ]
    },
    {
      "cell_type": "markdown",
      "metadata": {
        "id": "4qhWpRqKqZV5"
      },
      "source": [
        "# analysis"
      ]
    },
    {
      "cell_type": "code",
      "metadata": {
        "id": "JIrEwqXoqZWE",
        "colab": {
          "base_uri": "https://localhost:8080/"
        },
        "outputId": "8ce1b1aa-71d1-4971-aa6f-4118cca527b3"
      },
      "source": [
        "model.evaluate(x_test, y_test, batch_size=1000)"
      ],
      "execution_count": 14,
      "outputs": [
        {
          "output_type": "stream",
          "name": "stdout",
          "text": [
            "10/10 [==============================] - 8s 720ms/step - loss: 0.8187 - accuracy: 0.7294\n"
          ]
        },
        {
          "output_type": "execute_result",
          "data": {
            "text/plain": [
              "[0.818716824054718, 0.7293999791145325]"
            ]
          },
          "metadata": {},
          "execution_count": 14
        }
      ]
    },
    {
      "cell_type": "code",
      "metadata": {
        "id": "DDtaivQ0qZWE"
      },
      "source": [
        "CLASSES = np.array(['airplane', 'automobile', 'bird', 'cat', 'deer', 'dog', 'frog', 'horse', 'ship', 'truck'])\n",
        "\n",
        "preds = model.predict(x_test)\n",
        "preds_single = CLASSES[np.argmax(preds, axis = -1)]\n",
        "actual_single = CLASSES[np.argmax(y_test, axis = -1)]"
      ],
      "execution_count": 15,
      "outputs": []
    },
    {
      "cell_type": "code",
      "metadata": {
        "id": "LI9cCvOZqZWE",
        "colab": {
          "base_uri": "https://localhost:8080/",
          "height": 138
        },
        "outputId": "5ca994cb-cad9-4021-f6e0-d842382e9815"
      },
      "source": [
        "import matplotlib.pyplot as plt\n",
        "\n",
        "n_to_show = 10\n",
        "indices = np.random.choice(range(len(x_test)), n_to_show)\n",
        "\n",
        "fig = plt.figure(figsize=(15, 3))\n",
        "fig.subplots_adjust(hspace=0.4, wspace=0.4)\n",
        "\n",
        "for i, idx in enumerate(indices):\n",
        "    img = x_test[idx]\n",
        "    ax = fig.add_subplot(1, n_to_show, i+1)\n",
        "    ax.axis('off')\n",
        "    ax.text(0.5, -0.35, 'pred = ' + str(preds_single[idx]), fontsize=10, ha='center', transform=ax.transAxes) \n",
        "    ax.text(0.5, -0.7, 'act = ' + str(actual_single[idx]), fontsize=10, ha='center', transform=ax.transAxes)\n",
        "    ax.imshow(img)\n"
      ],
      "execution_count": 16,
      "outputs": [
        {
          "output_type": "display_data",
          "data": {
            "image/png": "[encoded data removed]",
            "text/plain": [
              "<Figure size 1080x216 with 10 Axes>"
            ]
          },
          "metadata": {
            "needs_background": "light"
          }
        }
      ]
    },
    {
      "cell_type": "code",
      "metadata": {
        "id": "1ZbVuGQnqZWF"
      },
      "source": [
        ""
      ],
      "execution_count": 16,
      "outputs": []
    },
    {
      "cell_type": "code",
      "metadata": {
        "id": "1bJW70QrqZWF"
      },
      "source": [
        ""
      ],
      "execution_count": 16,
      "outputs": []
    },
    {
      "cell_type": "code",
      "metadata": {
        "id": "OOtFk9VgqZWF"
      },
      "source": [
        ""
      ],
      "execution_count": 16,
      "outputs": []
    }
  ]
}